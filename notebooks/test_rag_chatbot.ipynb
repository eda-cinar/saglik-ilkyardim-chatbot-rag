
# 🧠 Sağlık & İlk Yardım Chatbotu Testi

Bu notebook, RAG mimarili chatbotun test edilmesi için hazırlanmıştır.

```python
from rag_pipeline import rag_answer

print(rag_answer("Elimi kestim, ne yapmalıyım?"))
```
